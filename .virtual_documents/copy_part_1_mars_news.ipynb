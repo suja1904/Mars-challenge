


# Import Splinter and BeautifulSoup
from splinter import Browser 
from bs4 import BeautifulSoup as soup 
from bs4 import BeautifulSoup
import json 
import requests
import pandas as pd


browser = Browser('chrome')





# Visit the Mars news site
url = 'https://static.bc-edx.com/data/web/mars_news/index.html'
browser.visit(url)



browser.html






# Create a Beautiful Soup object
html = browser.html
soup = BeautifulSoup(html, 'html.parser')


# Extract all the text elements
all_elements= soup.find_all('div', class_="list_text")
all_elements





# Create an empty list to store the dictionaries
all_elements= soup.find_all('div', class_="list_text")
all_elements


# creacting an empty list for the dictionary
mars_news_list= []


# Loop through the text elements
# Extract the title and preview text from the elements
# Store each title and preview pair in a dictionary
# Add the dictionary to the list
for article in all_elements:
    # 1
    title = article.find('div', class_='content_title').text
    preview = article.find('div', class_='article_teaser_body').text
    
    # 2
    article_dict = {}
    article_dict['title'] = title
    article_dict['preview'] = preview
    
    # 3
    mars_news_list.append(article_dict)


# Print the list to confirm success
mars_news_list


browser.quit()



