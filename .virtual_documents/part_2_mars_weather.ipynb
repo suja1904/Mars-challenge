


# Import relevant libraries
from splinter import Browser
from bs4 import BeautifulSoup as soup
import matplotlib.pyplot as plt
import pandas as pd


browser = Browser('chrome')





# Visit the website
# https://static.bc-edx.com/data/web/mars_facts/temperature.html
url = "https://static.bc-edx.com/data/web/mars_facts/temperature.html"
browser.visit(url)





# Create a Beautiful Soup Object



# Extract all rows of data






# Create an empty list

# Loop through the scraped data to create a list of rows



# Create a Pandas DataFrame by using the list of rows and a list of the column names



# Confirm DataFrame was created successfully






# Examine data type of each column



# Change data types for data analysis



# Confirm type changes were successful by examining data types again






# 1. How many months are there on Mars?



# 2. How many Martian days' worth of data are there?



# 3. What is the average low temperature by month?



# Plot the average temperature by month



# Identify the coldest and hottest months in Curiosity's location



# 4. Average pressure by Martian month



# Plot the average pressure by month



# 5. How many terrestrial (earth) days are there in a Martian year?















# Write the data to a CSV



browser.quit()



