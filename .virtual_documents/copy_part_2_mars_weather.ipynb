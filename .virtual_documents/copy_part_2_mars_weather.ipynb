


# Import relevant libraries
from splinter import Browser
from bs4 import BeautifulSoup as soup
from bs4 import BeautifulSoup
import matplotlib.pyplot as plt
import pandas as pd


browser = Browser('chrome')





# Visit the website
# https://static.bc-edx.com/data/web/mars_facts/temperature.html
url = "https://static.bc-edx.com/data/web/mars_facts/temperature.html"
browser.visit(url)





# Create a Beautiful Soup Object
html = browser.html
soup = BeautifulSoup(html, 'html.parser')



# Extract all rows of data
all_rows= soup.find_all('table', class_="table")
all_rows





# Create an empty list
soup_list = []
# Loop through the scraped data to create a list of rows
for i in all_rows:
    j = i.find_all('tr')
    row = [item.text for item in j]
    soup_list.append(row) 


#data to pandas dataframe for easy reading 
mars_data = pd.read_html(url)

mars_weather_df = pd.DataFrame(mars_data[0])
mars_weather_df


# Create a Pandas DataFrame by using the list of rows and a list of the column names
mars_dataframe = pd.DataFrame(mars_weather_df)
mars_dataframe.columns=['id', 'terrestrial_date', 'sol', 'ls', 'month', 'min_temp', 'pressure']


# Confirm DataFrame was created successfully
mars_dataframe.head()





# Examine data type of each column
mars_dataframe.dtypes


# Change data types for data analysis
mars_dataframe['id'] = pd.to_numeric(mars_dataframe['id'], downcast='integer')
mars_dataframe['terrestrial_date'] = pd.to_datetime(mars_dataframe['terrestrial_date'])
mars_dataframe['sol'] = pd.to_numeric(mars_dataframe['sol'], downcast='integer')
mars_dataframe['ls'] = pd.to_numeric(mars_dataframe['ls'], downcast='integer')
mars_dataframe['month'] = pd.to_numeric(mars_dataframe['month'], downcast='integer')
mars_dataframe['min_temp'] = pd.to_numeric(mars_dataframe['min_temp'], downcast='float')
mars_dataframe['pressure'] = pd.to_numeric(mars_dataframe['pressure'], downcast='float')


# Confirm type changes were successful by examining data types again
mars_dataframe.dtypes





# 1. How many months are there on Mars?
mars_dataframe.groupby(mars_dataframe['month'])['id'].count()


# 2. How many Martian days' worth of data are there?
mars_dataframe['sol'].nunique()


# 3. What is the average low temperature by month?
low_temp = mars_dataframe.groupby(mars_dataframe['month'])['min_temp'].mean()
low_temp


# Plot the average temperature by month
low_temp.plot(kind='bar', xlabel='Month', ylabel='Temperature in Celsius')
plt.show()


# Identify the coldest and hottest months in Curiosity's location
low_temp.sort_values().plot(kind='bar')
plt.ylabel('Temperature in Celsius')
plt.show()


# 4. Average pressure by Martian month
pressure = mars_dataframe.groupby(mars_dataframe['month'])['pressure'].mean()
pressure

#adding a header to the minimun pressure column
pressure_dataframe = pd.DataFrame(pressure)


pressure



# Plot the average pressure by month
pressure.plot(kind='bar', xlabel='month', ylabel='Atmospheric Pressure')
plt.show()



# 5. How many terrestrial (earth) days are there in a Martian year?
terr_days = mars_weather_df['terrestrial_date'].loc[(mars_weather_df['ls']==mars_weather_df['ls'][0]) & (mars_weather_df.index!=0)].iloc[0] - mars_weather_df['terrestrial_date'][0]
terr_days.days














# Write the data to a CSV



browser.quit()



